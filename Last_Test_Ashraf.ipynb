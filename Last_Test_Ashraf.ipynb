{
  "nbformat": 4,
  "nbformat_minor": 0,
  "metadata": {
    "colab": {
      "provenance": [],
      "collapsed_sections": [],
      "authorship_tag": "ABX9TyMVnTfho1cL4QDaoq/80Ets",
      "include_colab_link": true
    },
    "kernelspec": {
      "name": "python3",
      "display_name": "Python 3"
    },
    "accelerator": "TPU"
  },
  "cells": [
    {
      "cell_type": "markdown",
      "metadata": {
        "id": "view-in-github",
        "colab_type": "text"
      },
      "source": [
        "<a href=\"https://colab.research.google.com/github/mohammad-ashraf-abdin/NLP_mid_training/blob/main/Last_Test_Ashraf.ipynb\" target=\"_parent\"><img src=\"https://colab.research.google.com/assets/colab-badge.svg\" alt=\"Open In Colab\"/></a>"
      ]
    },
    {
      "cell_type": "code",
      "metadata": {
        "colab": {
          "base_uri": "https://localhost:8080/"
        },
        "id": "g0Vegdr9gDw0",
        "outputId": "5fdf7495-24a8-4305-f492-39177ae6a2d0"
      },
      "source": [
        "import nltk\n",
        "# nltk.download()\n",
        "nltk.download('punkt')\n",
        "nltk.download('wordnet')\n",
        "nltk.download('words')\n",
        "nltk.download('stopwords')"
      ],
      "execution_count": null,
      "outputs": [
        {
          "output_type": "stream",
          "text": [
            "[nltk_data] Downloading package punkt to /root/nltk_data...\n",
            "[nltk_data]   Unzipping tokenizers/punkt.zip.\n",
            "[nltk_data] Downloading package wordnet to /root/nltk_data...\n",
            "[nltk_data]   Unzipping corpora/wordnet.zip.\n",
            "[nltk_data] Downloading package words to /root/nltk_data...\n",
            "[nltk_data]   Unzipping corpora/words.zip.\n",
            "[nltk_data] Downloading package stopwords to /root/nltk_data...\n",
            "[nltk_data]   Unzipping corpora/stopwords.zip.\n"
          ],
          "name": "stdout"
        },
        {
          "output_type": "execute_result",
          "data": {
            "text/plain": [
              "True"
            ]
          },
          "metadata": {
            "tags": []
          },
          "execution_count": 4
        }
      ]
    },
    {
      "cell_type": "code",
      "metadata": {
        "id": "vXigg99QhT_j"
      },
      "source": [
        "import pandas as pd\n",
        "from pandas.core.common import flatten\n",
        "import re\n",
        "import nltk\n",
        "import matplotlib.pyplot as plt\n",
        "from collections import Counter\n",
        "from nltk.corpus import words\n",
        "from sklearn.svm import LinearSVC\n",
        "from sklearn.metrics import accuracy_score\n",
        "from sklearn.feature_extraction.text import TfidfVectorizer\n",
        "from sklearn.feature_extraction.text import CountVectorizer\n",
        "from nltk.collocations import *\n",
        "from sklearn.feature_extraction.text import TfidfVectorizer\n",
        "from nltk.tokenize import TreebankWordTokenizer\n",
        "from sklearn.linear_model import LogisticRegression\n",
        "from nltk.stem import WordNetLemmatizer\n",
        "from nltk.tokenize import word_tokenize\n",
        "from nltk.tokenize import WhitespaceTokenizer\n",
        "from nltk.corpus import wordnet\n",
        "from sklearn.model_selection import train_test_split\n"
      ],
      "execution_count": null,
      "outputs": []
    },
    {
      "cell_type": "code",
      "metadata": {
        "id": "azR_tPMthT8C"
      },
      "source": [
        "tk = WhitespaceTokenizer()\n",
        "wn=nltk.WordNetLemmatizer()\n",
        "stop = nltk.corpus.stopwords.words('english')"
      ],
      "execution_count": null,
      "outputs": []
    },
    {
      "cell_type": "markdown",
      "metadata": {
        "id": "8pKXFXwsTSzb"
      },
      "source": [
        "Read Data From Github"
      ]
    },
    {
      "cell_type": "code",
      "metadata": {
        "colab": {
          "base_uri": "https://localhost:8080/",
          "height": 297
        },
        "id": "NRktWCgbhT5X",
        "outputId": "9abf430a-4de2-4279-fc3e-6a855d73fdee"
      },
      "source": [
        "url = 'https://raw.githubusercontent.com/ashraf97it/NLPHW2/main/Covid_19_tweets_train.csv'\n",
        "df = pd.read_csv(url,encoding='latin1')\n",
        "df.head()"
      ],
      "execution_count": null,
      "outputs": [
        {
          "output_type": "execute_result",
          "data": {
            "text/html": [
              "<div>\n",
              "<style scoped>\n",
              "    .dataframe tbody tr th:only-of-type {\n",
              "        vertical-align: middle;\n",
              "    }\n",
              "\n",
              "    .dataframe tbody tr th {\n",
              "        vertical-align: top;\n",
              "    }\n",
              "\n",
              "    .dataframe thead th {\n",
              "        text-align: right;\n",
              "    }\n",
              "</style>\n",
              "<table border=\"1\" class=\"dataframe\">\n",
              "  <thead>\n",
              "    <tr style=\"text-align: right;\">\n",
              "      <th></th>\n",
              "      <th>UserName</th>\n",
              "      <th>ScreenName</th>\n",
              "      <th>Location</th>\n",
              "      <th>TweetAt</th>\n",
              "      <th>OriginalTweet</th>\n",
              "      <th>Sentiment</th>\n",
              "    </tr>\n",
              "  </thead>\n",
              "  <tbody>\n",
              "    <tr>\n",
              "      <th>0</th>\n",
              "      <td>3799</td>\n",
              "      <td>48751</td>\n",
              "      <td>London</td>\n",
              "      <td>16-03-2020</td>\n",
              "      <td>@MeNyrbie @Phil_Gahan @Chrisitv https://t.co/i...</td>\n",
              "      <td>Neutral</td>\n",
              "    </tr>\n",
              "    <tr>\n",
              "      <th>1</th>\n",
              "      <td>3800</td>\n",
              "      <td>48752</td>\n",
              "      <td>UK</td>\n",
              "      <td>16-03-2020</td>\n",
              "      <td>advice Talk to your neighbours family to excha...</td>\n",
              "      <td>Positive</td>\n",
              "    </tr>\n",
              "    <tr>\n",
              "      <th>2</th>\n",
              "      <td>3801</td>\n",
              "      <td>48753</td>\n",
              "      <td>Vagabonds</td>\n",
              "      <td>16-03-2020</td>\n",
              "      <td>Coronavirus Australia: Woolworths to give elde...</td>\n",
              "      <td>Positive</td>\n",
              "    </tr>\n",
              "    <tr>\n",
              "      <th>3</th>\n",
              "      <td>3802</td>\n",
              "      <td>48754</td>\n",
              "      <td>NaN</td>\n",
              "      <td>16-03-2020</td>\n",
              "      <td>My food stock is not the only one which is emp...</td>\n",
              "      <td>Positive</td>\n",
              "    </tr>\n",
              "    <tr>\n",
              "      <th>4</th>\n",
              "      <td>3803</td>\n",
              "      <td>48755</td>\n",
              "      <td>NaN</td>\n",
              "      <td>16-03-2020</td>\n",
              "      <td>Me, ready to go at supermarket during the #COV...</td>\n",
              "      <td>Extremely Negative</td>\n",
              "    </tr>\n",
              "  </tbody>\n",
              "</table>\n",
              "</div>"
            ],
            "text/plain": [
              "   UserName  ...           Sentiment\n",
              "0      3799  ...             Neutral\n",
              "1      3800  ...            Positive\n",
              "2      3801  ...            Positive\n",
              "3      3802  ...            Positive\n",
              "4      3803  ...  Extremely Negative\n",
              "\n",
              "[5 rows x 6 columns]"
            ]
          },
          "metadata": {
            "tags": []
          },
          "execution_count": 7
        }
      ]
    },
    {
      "cell_type": "markdown",
      "metadata": {
        "id": "jEzk-eknTeh4"
      },
      "source": [
        "**Data Preproccenig :**\n",
        "\n",
        "1.   Clean from links\n",
        "2.   Clean from pic\n",
        "3.   Clean from decontacted ( قمت بإضافة الرمز الاحمر بدل الفاصلة بسبب الترميز اللاتيني للغة )\n",
        "4. Clean from emoji\n",
        "5. Clean from symbol\n",
        "6. Clean from username\n",
        "7. Clean from spacing punctuation\n",
        "8. Turn text to lower case\n",
        "9. Remove extra spaces 10- ملاحظة لم اقم بإزالة الارقام بسبب اهمية رقم 19 بالنسبة لموضوعنا"
      ]
    },
    {
      "cell_type": "markdown",
      "metadata": {
        "id": "E19UEReXTeR0"
      },
      "source": []
    },
    {
      "cell_type": "code",
      "metadata": {
        "id": "uDbjmnklhT2u"
      },
      "source": [
        "def removeLink(text):\n",
        "    pattern=re.compile('http[s]?://(?:[a-zA-Z]|[0-9]|[$-_@.&+])+')\n",
        "    text= pattern.sub(\"\",text)\n",
        "    return text   "
      ],
      "execution_count": null,
      "outputs": []
    },
    {
      "cell_type": "code",
      "metadata": {
        "id": "MJqdkW2UhT0F"
      },
      "source": [
        "def removePic(text):\n",
        "    pattern=re.compile('pic.twitter.com/([a-zA-Z]|[0-9])*')\n",
        "    text=pattern.sub(\"\",text)\n",
        "    return text"
      ],
      "execution_count": null,
      "outputs": []
    },
    {
      "cell_type": "code",
      "metadata": {
        "id": "6HH5B5dKhTxY"
      },
      "source": [
        "def removeDecontracted(text):\n",
        "    text = re.sub(r\"won\\'t\", \"will not\", text)\n",
        "    text = re.sub(r\"won\\t\", \"will not\", text)\n",
        "    text = re.sub(r\"can\\'t\", \"can not\", text)\n",
        "    text = re.sub(r\"can\\t\", \"can not\", text)\n",
        "    text = re.sub(r\"won\\’t\", \"will not\", text)\n",
        "    text = re.sub(r\"won\\t\", \"will not\", text)\n",
        "    text = re.sub(r\"can\\’t\", \"can not\", text)\n",
        "    text = re.sub(r\"can\\t\", \"can not\", text)\n",
        "    text = re.sub(r\"n\\'t\", \" not\", text)\n",
        "    text = re.sub(r\"nt\", \" not\", text)\n",
        "    text = re.sub(r\"\\'re\", \" are\", text)\n",
        "    text = re.sub(r\"re\", \" are\", text)\n",
        "    text = re.sub(r\"\\'s\", \" is\", text)\n",
        "    text = re.sub(r\"s\", \" is\", text)\n",
        "    text = re.sub(r\"\\'d\", \" would\", text)\n",
        "    text = re.sub(r\"d\", \" would\", text)\n",
        "    text = re.sub(r\"\\'ll\", \" will\", text)\n",
        "    text = re.sub(r\"ll\", \" will\", text)\n",
        "    text = re.sub(r\"\\'t\", \" not\", text)\n",
        "    text = re.sub(r\"t\", \" not\", text)\n",
        "    text = re.sub(r\"\\'ve\", \" have\", text)\n",
        "    text = re.sub(r\"ve\", \" have\", text)\n",
        "    text = re.sub(r\"\\'m\", \" am\", text)\n",
        "    text = re.sub(r\"m\", \" am\", text)\n",
        "    return text\n"
      ],
      "execution_count": null,
      "outputs": []
    },
    {
      "cell_type": "code",
      "metadata": {
        "id": "vOJLmct3hTuu"
      },
      "source": [
        "def removeEmojies(text):\n",
        "    pattern=re.compile(\"[\"\n",
        "                u\"\\U0001F600-\\U0001F64F\"u\"\\U0001F300-\\U0001F5FF\"u\"\\U0001F680-\\U0001F6FF\"u\"\\U0001F1E0-\\U0001F1FF\" \n",
        "                u\"\\U00002702-\\U000027B0\"u\"\\U000024C2-\\U0001F251\"u\"\\U0001f926-\\U0001f937\"u'\\U00010000-\\U0010ffff'\n",
        "                u\"\\u200d\"u\"\\u2640-\\u2642\"u\"\\u2600-\\u2B55\"u\"\\u23cf\"u\"\\u23e9\"u\"\\u231a\"u\"\\u3030\"u\"\\ufe0f\"\n",
        "    \"]+\", flags=re.UNICODE)\n",
        "    text=pattern.sub(\"\",text)\n",
        "    return text"
      ],
      "execution_count": null,
      "outputs": []
    },
    {
      "cell_type": "code",
      "metadata": {
        "id": "9VS8059OiGKE"
      },
      "source": [
        "def removeSymbols(text):\n",
        "    pattern = re.compile(\"[/{}()\\[\\]\\|,;:؟?!،\\\"*.…”؛]\")\n",
        "    text= re.sub(pattern,\"\",text)\n",
        "    return text"
      ],
      "execution_count": null,
      "outputs": []
    },
    {
      "cell_type": "code",
      "metadata": {
        "id": "MZR0v0LoiGHD"
      },
      "source": [
        "def removeUserName(text):\n",
        "    pattern=re.compile('@(_)*([a-zA-Z0-9])+')\n",
        "    text=pattern.sub(\"\",text)\n",
        "    return text"
      ],
      "execution_count": null,
      "outputs": []
    },
    {
      "cell_type": "code",
      "metadata": {
        "id": "mY4vO0sXiGDv"
      },
      "source": [
        "extra_punct = [\n",
        "    ',', '.', '\"', ':', ')', '(', '!', '?', '|', ';', \"'\", '$', '&',\n",
        "    '/', '[', ']', '>', '%', '=', '*', '+', '\\\\', '•',  '~', '@', '£',\n",
        "    '·', '_', '{', '}', '©', '^', '®', '`',  '<', '→', '°', '€', '™', '›',\n",
        "    '♥', '←', '×', '§', '″', '′', 'Â', '█', '½', 'à', '…', '“', '★', '”',\n",
        "    '–', '●', 'â', '►', '−', '¢', '²', '¬', '░', '¶', '↑', '±', '¿', '▾',\n",
        "    '═', '¦', '║', '―', '¥', '▓', '—', '‹', '─', '▒', '：', '¼', '⊕', '▼',\n",
        "    '▪', '†', '■', '’', '▀', '¨', '▄', '♫', '☆', 'é', '¯', '♦', '¤', '▲',\n",
        "    'è', '¸', '¾', 'Ã', '⋅', '‘', '∞', '∙', '）', '↓', '、', '│', '（', '»',\n",
        "    '，', '♪', '╩', '╚', '³', '・', '╦', '╣', '╔', '╗', '▬', '❤', 'ï', 'Ø',\n",
        "    '¹', '≤', '‡', '√', '«', '»', '´', 'º', '¾', '¡', '§', '£', '₤']\n",
        "def spacing_punctuation(text):\n",
        "    for punc in extra_punct:\n",
        "        if punc in text:\n",
        "            text = text.replace(punc, f'')\n",
        "    return text"
      ],
      "execution_count": null,
      "outputs": []
    },
    {
      "cell_type": "code",
      "metadata": {
        "id": "JxEfGH3ciGA4"
      },
      "source": [
        "def remooo(text):\n",
        "    text = text.lower()\n",
        "    text = text.strip()\n",
        "    return text\n",
        "    "
      ],
      "execution_count": null,
      "outputs": []
    },
    {
      "cell_type": "markdown",
      "metadata": {
        "id": "H-G4Ey5KUOMp"
      },
      "source": [
        "Call all clean functions in one function"
      ]
    },
    {
      "cell_type": "code",
      "metadata": {
        "id": "a19zA7KliF95"
      },
      "source": [
        "def text_clean(text):\n",
        "  nitem = removeLink(text)\n",
        "  nitem = removePic(nitem)\n",
        "  nitem = removeDecontracted(nitem)\n",
        "  nitem = removeEmojies(nitem)\n",
        "  nitem = removeSymbols(nitem)\n",
        "  nitem = removeUserName(nitem)\n",
        "  nitem = spacing_punctuation(nitem)\n",
        "  nitem = remooo(nitem)\n",
        "  return nitem"
      ],
      "execution_count": null,
      "outputs": []
    },
    {
      "cell_type": "code",
      "metadata": {
        "id": "EAfTXLwDjizW"
      },
      "source": [
        "def toknize(text):\n",
        "    text=tk.tokenize(text) \n",
        "    return text"
      ],
      "execution_count": null,
      "outputs": []
    },
    {
      "cell_type": "code",
      "metadata": {
        "id": "r9F094e2iF6b"
      },
      "source": [
        "def lemmatize_text(text):\n",
        "    text=[wn.lemmatize(word) for word in text]\n",
        "    return text\n"
      ],
      "execution_count": null,
      "outputs": []
    },
    {
      "cell_type": "code",
      "metadata": {
        "id": "G26lgjXFiF3E"
      },
      "source": [
        "def remove_stop(text):\n",
        "    text_clean=[word for word in text if word not in stop]\n",
        "    return text_clean"
      ],
      "execution_count": null,
      "outputs": []
    },
    {
      "cell_type": "code",
      "metadata": {
        "id": "bKHGAmn2jAAW"
      },
      "source": [
        "def listtostring(text):\n",
        "    listToStr = ' '.join(map(str, text)) \n",
        "    return listToStr"
      ],
      "execution_count": null,
      "outputs": []
    },
    {
      "cell_type": "markdown",
      "metadata": {
        "id": "kjemzKglUYlu"
      },
      "source": [
        "remove # symbol "
      ]
    },
    {
      "cell_type": "code",
      "metadata": {
        "id": "moe6Xy7biF0Q"
      },
      "source": [
        "def remove_hashtags(text):\n",
        "    pattern = re.compile(\"#\")\n",
        "    text= re.sub(pattern,\"\",text)\n",
        "    pattern = re.compile(\"-\")\n",
        "    text= re.sub(pattern,\" \",text)\n",
        "    pattern = re.compile(\"_\")\n",
        "    text= re.sub(pattern,\" \",text)\n",
        "    return text"
      ],
      "execution_count": null,
      "outputs": []
    },
    {
      "cell_type": "markdown",
      "metadata": {
        "id": "dpfJxpK-Ucgj"
      },
      "source": [
        "remove hastag sentains "
      ]
    },
    {
      "cell_type": "code",
      "metadata": {
        "id": "FaovCMHziFxy"
      },
      "source": [
        "def remove_fullhashtags(text):\n",
        "    pattern = re.compile('#(_)*([a-zA-Z0-9])+')\n",
        "    text= re.sub(pattern,\"\",text)\n",
        "    return text"
      ],
      "execution_count": null,
      "outputs": []
    },
    {
      "cell_type": "markdown",
      "metadata": {
        "id": "1pgtEYZhUiJV"
      },
      "source": [
        "apply all clean and prepare function in our data \n"
      ]
    },
    {
      "cell_type": "code",
      "metadata": {
        "colab": {
          "base_uri": "https://localhost:8080/",
          "height": 434
        },
        "id": "Zn-zpPami7jW",
        "outputId": "7b3a6ba7-00bc-4d16-ed80-5ddab3332b97"
      },
      "source": [
        "df['OriginalTweet']=df.OriginalTweet.apply(text_clean)\n",
        "df['normlize_tweet']=df.OriginalTweet.apply(toknize)\n",
        "df['normlize_tweet']=df.normlize_tweet.apply(lambda x: remove_stop(x))\n",
        "df['normlize_tweet']=df.normlize_tweet.apply(lambda x: lemmatize_text(x))\n",
        "df.head()"
      ],
      "execution_count": null,
      "outputs": [
        {
          "output_type": "execute_result",
          "data": {
            "text/html": [
              "<div>\n",
              "<style scoped>\n",
              "    .dataframe tbody tr th:only-of-type {\n",
              "        vertical-align: middle;\n",
              "    }\n",
              "\n",
              "    .dataframe tbody tr th {\n",
              "        vertical-align: top;\n",
              "    }\n",
              "\n",
              "    .dataframe thead th {\n",
              "        text-align: right;\n",
              "    }\n",
              "</style>\n",
              "<table border=\"1\" class=\"dataframe\">\n",
              "  <thead>\n",
              "    <tr style=\"text-align: right;\">\n",
              "      <th></th>\n",
              "      <th>UserName</th>\n",
              "      <th>ScreenName</th>\n",
              "      <th>Location</th>\n",
              "      <th>TweetAt</th>\n",
              "      <th>OriginalTweet</th>\n",
              "      <th>Sentiment</th>\n",
              "      <th>normlize_tweet</th>\n",
              "    </tr>\n",
              "  </thead>\n",
              "  <tbody>\n",
              "    <tr>\n",
              "      <th>0</th>\n",
              "      <td>3799</td>\n",
              "      <td>48751</td>\n",
              "      <td>London</td>\n",
              "      <td>16-03-2020</td>\n",
              "      <td>gahan   and  and</td>\n",
              "      <td>Neutral</td>\n",
              "      <td>[gahan]</td>\n",
              "    </tr>\n",
              "    <tr>\n",
              "      <th>1</th>\n",
              "      <td>3800</td>\n",
              "      <td>48752</td>\n",
              "      <td>UK</td>\n",
              "      <td>16-03-2020</td>\n",
              "      <td>advice talk to your neighbours family to excha...</td>\n",
              "      <td>Positive</td>\n",
              "      <td>[advice, talk, neighbour, family, exchange, ph...</td>\n",
              "    </tr>\n",
              "    <tr>\n",
              "      <th>2</th>\n",
              "      <td>3801</td>\n",
              "      <td>48753</td>\n",
              "      <td>Vagabonds</td>\n",
              "      <td>16-03-2020</td>\n",
              "      <td>coronavirus australia woolworths to give elder...</td>\n",
              "      <td>Positive</td>\n",
              "      <td>[coronavirus, australia, woolworth, give, elde...</td>\n",
              "    </tr>\n",
              "    <tr>\n",
              "      <th>3</th>\n",
              "      <td>3802</td>\n",
              "      <td>48754</td>\n",
              "      <td>NaN</td>\n",
              "      <td>16-03-2020</td>\n",
              "      <td>my food stock is not the only one which is emp...</td>\n",
              "      <td>Positive</td>\n",
              "      <td>[food, stock, one, empty, please, panic, enoug...</td>\n",
              "    </tr>\n",
              "    <tr>\n",
              "      <th>4</th>\n",
              "      <td>3803</td>\n",
              "      <td>48755</td>\n",
              "      <td>NaN</td>\n",
              "      <td>16-03-2020</td>\n",
              "      <td>me ready to go at supermarket during the #covi...</td>\n",
              "      <td>Extremely Negative</td>\n",
              "      <td>[ready, go, supermarket, #covid19, outbreak, p...</td>\n",
              "    </tr>\n",
              "  </tbody>\n",
              "</table>\n",
              "</div>"
            ],
            "text/plain": [
              "   UserName  ...                                     normlize_tweet\n",
              "0      3799  ...                                            [gahan]\n",
              "1      3800  ...  [advice, talk, neighbour, family, exchange, ph...\n",
              "2      3801  ...  [coronavirus, australia, woolworth, give, elde...\n",
              "3      3802  ...  [food, stock, one, empty, please, panic, enoug...\n",
              "4      3803  ...  [ready, go, supermarket, #covid19, outbreak, p...\n",
              "\n",
              "[5 rows x 7 columns]"
            ]
          },
          "metadata": {
            "tags": []
          },
          "execution_count": 23
        }
      ]
    },
    {
      "cell_type": "code",
      "metadata": {
        "colab": {
          "base_uri": "https://localhost:8080/"
        },
        "id": "57eV1-qKi7fz",
        "outputId": "c92834ba-efc7-438d-ada4-3c9f9f9939cd"
      },
      "source": [
        "Tweets = df['normlize_tweet']\n",
        "Lemma=list(flatten(Tweets))\n",
        "fdistWithNoStop = nltk.FreqDist(w for w in Lemma)\n",
        "print(\"most common words :\")\n",
        "print(fdistWithNoStop.most_common(10))\n",
        "least_common = [item for item in Counter(Lemma).most_common()[:-11:-1]]\n",
        "print(\"__________________\")\n",
        "print(\"uncommon words\")\n",
        "print(least_common)\n",
        "WORD= set(words.words())\n",
        "english_vocab=[]\n",
        "for n in Lemma:\n",
        "    if n not in WORD:\n",
        "        english_vocab.append(n)\n",
        "print(\"__________________\")\n",
        "print(\"Misspelled words\")\n",
        "print(english_vocab[:10])\n"
      ],
      "execution_count": null,
      "outputs": [
        {
          "output_type": "stream",
          "text": [
            "most common words :\n",
            "[('#coronavirus', 15880), ('#covid19', 8843), ('price', 8812), ('store', 8089), ('covid-19', 7495), ('supermarket', 7227), ('food', 6910), ('grocery', 6477), ('people', 5564), ('amp', 4957)]\n",
            "__________________\n",
            "uncommon words\n",
            "[('whethe', 1), ('rift', 1), ('newused', 1), ('martinsville', 1), ('rejecting', 1), ('rs46215', 1), ('172220', 1), ('171525ounce', 1), ('#safe-haven', 1), ('sv', 1)]\n",
            "__________________\n",
            "Misspelled words\n",
            "['gahan', 'neighbour', 'neighbour', 'gp', 'online', 'med', 'coronavirus', 'australia', 'woolworth', 'dedicated']\n"
          ],
          "name": "stdout"
        }
      ]
    },
    {
      "cell_type": "code",
      "metadata": {
        "colab": {
          "base_uri": "https://localhost:8080/",
          "height": 335
        },
        "id": "qQD-ZQI9i7cn",
        "outputId": "b23578a3-9f84-42b3-a4b9-78476b60a561"
      },
      "source": [
        "fdistWithNoStop.plot(20)\n",
        "plt.draw()\n",
        "%matplotlib inline\n",
        "plt.show(block=True)"
      ],
      "execution_count": null,
      "outputs": [
        {
          "output_type": "display_data",
          "data": {
            "image/png": "[encoded data removed]",
            "text/plain": [
              "<Figure size 432x288 with 1 Axes>"
            ]
          },
          "metadata": {
            "tags": [],
            "needs_background": "light"
          }
        }
      ]
    },
    {
      "cell_type": "code",
      "metadata": {
        "colab": {
          "base_uri": "https://localhost:8080/"
        },
        "id": "yCQs0UcGi7Yf",
        "outputId": "f5f14fc3-5672-45b3-d61e-f0522132deae"
      },
      "source": [
        "def Collocations(tokens):\n",
        "    \n",
        "    stopwords = nltk.corpus.stopwords.words(\"english\")\n",
        "    bigram_measures = nltk.collocations.BigramAssocMeasures()\n",
        "    Bigram = BigramCollocationFinder.from_words(tokens, window_size = 2)\n",
        "    Bigram.apply_word_filter(lambda w: len(w) < 3 or w in stopwords)\n",
        "    Bigram.apply_freq_filter(3) \n",
        "    res = Bigram.nbest(bigram_measures.likelihood_ratio, 20)\n",
        "    return res \n",
        "Collocations(Lemma)   "
      ],
      "execution_count": null,
      "outputs": [
        {
          "output_type": "execute_result",
          "data": {
            "text/plain": [
              "[('grocery', 'store'),\n",
              " ('toilet', 'paper'),\n",
              " ('hand', 'sanitizer'),\n",
              " ('panic', 'buying'),\n",
              " ('online', 'shopping'),\n",
              " ('social', 'distancing'),\n",
              " ('oil', 'price'),\n",
              " ('#coronavirus', '#covid19'),\n",
              " ('#covid19', '#coronavirus'),\n",
              " ('supply', 'chain'),\n",
              " ('stay', 'home'),\n",
              " ('food', 'bank'),\n",
              " ('covid-19', 'pandemic'),\n",
              " ('front', 'line'),\n",
              " ('stay', 'safe'),\n",
              " ('face', 'mask'),\n",
              " ('gas', 'price'),\n",
              " ('supermarket', 'shelf'),\n",
              " ('consumer', 'behavior'),\n",
              " ('wash', 'hand')]"
            ]
          },
          "metadata": {
            "tags": []
          },
          "execution_count": 26
        }
      ]
    },
    {
      "cell_type": "code",
      "metadata": {
        "colab": {
          "base_uri": "https://localhost:8080/"
        },
        "id": "A2rO5jpxi7U1",
        "outputId": "0080b754-297f-4220-8e12-4c2b9f55b677"
      },
      "source": [
        "tweets=df['normlize_tweet'].apply(listtostring)\n",
        "import re\n",
        "haash=[]\n",
        "# hashTag=open(\"nicerText.txt\",\"r\",encoding='latin1')\n",
        "\n",
        "# lines=Tweets.readlines()\n",
        "for line in tweets:\n",
        "    tag=re.search(r'#[0-9a-zA-Z0-9]+((_)?[0-9a-zA-Z0-9]+)*',line)\n",
        "    if tag:\n",
        "        tag=re.search(r'#[0-9a-zA-Z0-9]+((_)?[0-9a-zA-Z0-9]+)*',line).group()\n",
        "        haash.append(tag)\n",
        "HashTagF = [item for item in Counter(haash).most_common(10)]\n",
        "print(HashTagF)"
      ],
      "execution_count": null,
      "outputs": [
        {
          "output_type": "stream",
          "text": [
            "[('#coronavirus', 7728), ('#covid19', 3081), ('#covid2019', 838), ('#toiletpaper', 459), ('#socialdistancing', 368), ('#coronacrisis', 365), ('#covid', 275), ('#stayhomesavelives', 161), ('#supermarket', 113), ('#retail', 108)]\n"
          ],
          "name": "stdout"
        }
      ]
    },
    {
      "cell_type": "code",
      "metadata": {
        "colab": {
          "base_uri": "https://localhost:8080/",
          "height": 428
        },
        "id": "r7l-D6oJi7Rr",
        "outputId": "53264329-c5c7-4149-d490-6457ee7c584c"
      },
      "source": [
        "loc = list(df['Location'])\n",
        "all_loc = []\n",
        "for item in loc:\n",
        "    if type(item) == type(loc[1]):\n",
        "        nitem = text_clean(item)\n",
        "   \n",
        "        all_loc.append(nitem)\n",
        "freq_loc= []\n",
        "for x in all_loc:\n",
        "    freq_loc.append(x)\n",
        "fdistWithStop=nltk.FreqDist(w for w in freq_loc)\n",
        "print(fdistWithStop.most_common(20))\n",
        "fdistWithStop.plot(20)\n",
        "plt.draw()\n",
        "%matplotlib inline\n",
        "plt.show(block=True)"
      ],
      "execution_count": null,
      "outputs": [
        {
          "output_type": "stream",
          "text": [
            "[('london', 575), ('united states', 532), ('london england', 527), ('washington dc', 498), ('new york ny', 400), ('united kingdom', 347), ('', 311), ('india', 300), ('los angeles ca', 287), ('usa', 269), ('uk', 265), ('australia', 237), ('canada', 210), ('england united kingdom', 194), ('global', 170), ('toronto ontario', 164), ('chicago il', 160), ('san francisco ca', 155), ('boston ma', 154), ('california usa', 154)]\n"
          ],
          "name": "stdout"
        },
        {
          "output_type": "display_data",
          "data": {
            "image/png": "[encoded data removed]",
            "text/plain": [
              "<Figure size 432x288 with 1 Axes>"
            ]
          },
          "metadata": {
            "tags": [],
            "needs_background": "light"
          }
        }
      ]
    },
    {
      "cell_type": "markdown",
      "metadata": {
        "id": "i-_PjA5tj4IB"
      },
      "source": [
        "SECOND Part Of Home Work\n"
      ]
    },
    {
      "cell_type": "code",
      "metadata": {
        "colab": {
          "base_uri": "https://localhost:8080/",
          "height": 354
        },
        "id": "v6oOFcdTi7N0",
        "outputId": "b4ab9c72-37a6-40e5-af28-d4ef91773b66"
      },
      "source": [
        "!pip install 'nltk==3.4.5'"
      ],
      "execution_count": null,
      "outputs": [
        {
          "output_type": "stream",
          "text": [
            "Collecting nltk==3.4.5\n",
            "\u001b[?25l  Downloading https://files.pythonhosted.org/packages/f6/1d/d925cfb4f324ede997f6d47bea4d9babba51b49e87a767c170b77005889d/nltk-3.4.5.zip (1.5MB)\n",
            "\u001b[K     |████████████████████████████████| 1.5MB 5.3MB/s \n",
            "\u001b[?25hRequirement already satisfied: six in /usr/local/lib/python3.6/dist-packages (from nltk==3.4.5) (1.15.0)\n",
            "Building wheels for collected packages: nltk\n",
            "  Building wheel for nltk (setup.py) ... \u001b[?25l\u001b[?25hdone\n",
            "  Created wheel for nltk: filename=nltk-3.4.5-cp36-none-any.whl size=1449906 sha256=bc869c1903804a600e85dc8d86231b370fdaf986b487eb9bcf3127ca1ab765be\n",
            "  Stored in directory: /root/.cache/pip/wheels/96/86/f6/68ab24c23f207c0077381a5e3904b2815136b879538a24b483\n",
            "Successfully built nltk\n",
            "Installing collected packages: nltk\n",
            "  Found existing installation: nltk 3.2.5\n",
            "    Uninstalling nltk-3.2.5:\n",
            "      Successfully uninstalled nltk-3.2.5\n",
            "Successfully installed nltk-3.4.5\n"
          ],
          "name": "stdout"
        },
        {
          "output_type": "display_data",
          "data": {
            "application/vnd.colab-display-data+json": {
              "pip_warning": {
                "packages": [
                  "nltk"
                ]
              }
            }
          },
          "metadata": {
            "tags": []
          }
        }
      ]
    },
    {
      "cell_type": "markdown",
      "metadata": {
        "id": "EnEiGpUbU4tA"
      },
      "source": [
        "use university way that used in lab to generate language "
      ]
    },
    {
      "cell_type": "code",
      "metadata": {
        "id": "sX1lfj2Rj3UW"
      },
      "source": [
        "from nltk.lm.preprocessing import padded_everygram_pipeline\n",
        "trump_corpus = list(tweets.apply(word_tokenize))\n",
        "n = 3\n",
        "train_data, padded_sents = padded_everygram_pipeline(n, trump_corpus)\n"
      ],
      "execution_count": null,
      "outputs": []
    },
    {
      "cell_type": "code",
      "metadata": {
        "id": "c6zBWSOVj3QA"
      },
      "source": [
        "from nltk.lm import MLE\n",
        "trump_model = MLE(n) # Lets train a 3-grams model, previously we set n=3\n",
        "trump_model.fit(train_data, padded_sents)"
      ],
      "execution_count": null,
      "outputs": []
    },
    {
      "cell_type": "code",
      "metadata": {
        "id": "_HiFJW6WkrPS"
      },
      "source": [
        "from nltk.tokenize.treebank import TreebankWordDetokenizer\n",
        "\n",
        "detokenize = TreebankWordDetokenizer().detokenize\n",
        "\n",
        "def generate_sent(model, num_words, random_seed=42):\n",
        "    content = []\n",
        "    for token in model.generate(num_words, random_seed=random_seed):\n",
        "        if token == '<s>':\n",
        "            continue\n",
        "        if token == '</s>':\n",
        "            break\n",
        "        content.append(token)\n",
        "    return detokenize(content)"
      ],
      "execution_count": null,
      "outputs": []
    },
    {
      "cell_type": "code",
      "metadata": {
        "colab": {
          "base_uri": "https://localhost:8080/",
          "height": 67
        },
        "id": "V84iF4sNj3Ls",
        "outputId": "2c9b79b5-8fd7-48d8-f446-abd2346d2aae"
      },
      "source": [
        "generate_sent(trump_model, num_words=50, random_seed=7)"
      ],
      "execution_count": null,
      "outputs": [
        {
          "output_type": "execute_result",
          "data": {
            "application/vnd.google.colaboratory.intrinsic+json": {
              "type": "string"
            },
            "text/plain": [
              "'birdbox #staysafestayhome #lockdown #catsofthequarantine #cats #cat #coronavirus isle wight lot fish amp produce good supply chain stretched coronavirus pandemic #covid-19 pandemic'"
            ]
          },
          "metadata": {
            "tags": []
          },
          "execution_count": 33
        }
      ]
    },
    {
      "cell_type": "markdown",
      "metadata": {
        "id": "wWUQ8gx9k_GS"
      },
      "source": [
        "end 1 of 2\n"
      ]
    },
    {
      "cell_type": "markdown",
      "metadata": {
        "id": "xZpMq1VlVcTq"
      },
      "source": [
        "cleaning reasult function "
      ]
    },
    {
      "cell_type": "code",
      "metadata": {
        "id": "E3h6ed52j3HB"
      },
      "source": [
        "def cleaning_result(_list):\n",
        "  temp = []\n",
        "  for string in _list:\n",
        "    st=text_clean(string)\n",
        "    st=toknize(st)\n",
        "    st=lemmatize_text(st)\n",
        "    st=listtostring(st)\n",
        "    temp.append(st)\n",
        "  return temp"
      ],
      "execution_count": null,
      "outputs": []
    },
    {
      "cell_type": "code",
      "metadata": {
        "colab": {
          "base_uri": "https://localhost:8080/"
        },
        "id": "SQa18wXMj3C3",
        "outputId": "712b1a4a-9ee8-4e37-8326-0b29b5054457"
      },
      "source": [
        "print(cleaning_result([\"hello!!?\" , \"hi! I am using whatsapp.\"]))"
      ],
      "execution_count": null,
      "outputs": [
        {
          "output_type": "stream",
          "text": [
            "['hello', 'hi i am using whatsapp']\n"
          ],
          "name": "stdout"
        }
      ]
    },
    {
      "cell_type": "markdown",
      "metadata": {
        "id": "4GgYVumhVh5t"
      },
      "source": [
        "Import all library needed in test phase\n"
      ]
    },
    {
      "cell_type": "code",
      "metadata": {
        "id": "dqtIHipOj2-y"
      },
      "source": [
        "from sklearn.linear_model import LogisticRegression, RidgeClassifier\n",
        "from sklearn.preprocessing import LabelEncoder\n",
        "import numpy as np \n",
        "import pandas as pd \n",
        "import matplotlib.pyplot as plt\n",
        "from keras.layers import Flatten\n",
        "from sklearn.feature_extraction.text import CountVectorizer\n",
        "from sklearn.model_selection import train_test_split\n",
        "from sklearn.linear_model import LogisticRegression\n",
        "from sklearn.preprocessing import LabelEncoder\n",
        "from sklearn.preprocessing import OneHotEncoder\n",
        "from sklearn.model_selection import RandomizedSearchCV\n",
        "from keras.layers import Embedding, LSTM, Dense\n",
        "from keras.models import Sequential\n",
        "from keras import layers\n",
        "from keras.preprocessing.text import Tokenizer\n",
        "from keras.preprocessing.sequence import pad_sequences\n",
        "from keras.wrappers.scikit_learn import KerasClassifier\n",
        "from sklearn.feature_extraction.text import CountVectorizer\n",
        "from sklearn.model_selection import train_test_split\n",
        "from sklearn.linear_model import LogisticRegression\n",
        "from sklearn.preprocessing import LabelEncoder\n",
        "from sklearn.preprocessing import OneHotEncoder\n",
        "from sklearn.model_selection import RandomizedSearchCV\n",
        "from keras.models import Sequential\n",
        "from keras import layers\n",
        "from keras.preprocessing.text import Tokenizer\n",
        "from keras.preprocessing.sequence import pad_sequences\n",
        "from keras.wrappers.scikit_learn import KerasClassifier\n",
        "from keras.layers.convolutional import Conv1D \n",
        "from keras.preprocessing.text import Tokenizer\n",
        "from keras.preprocessing.sequence import pad_sequences\n",
        "from keras.layers import TimeDistributed\n",
        "from keras.layers import Bidirectional \n",
        "from keras.layers import SpatialDropout1D\n",
        "from keras.layers import Dropout\n",
        "from keras.layers import Activation\n",
        "from keras.layers.convolutional import Conv1D \n",
        "from keras.preprocessing.text import Tokenizer\n",
        "from keras.preprocessing.sequence import pad_sequences\n",
        "from keras.layers import TimeDistributed\n",
        "from keras.layers import Bidirectional\n",
        "import pickle\n",
        "from tensorflow import keras"
      ],
      "execution_count": null,
      "outputs": []
    },
    {
      "cell_type": "markdown",
      "metadata": {
        "id": "TL_GxzRVVoMg"
      },
      "source": [
        "This function convert sentiment from string to binary number "
      ]
    },
    {
      "cell_type": "code",
      "metadata": {
        "id": "GjUWg0jzj20O"
      },
      "source": [
        "def binray(text):\n",
        "    if text == \"Extremely Negative\":\n",
        "        text = 1\n",
        "    if text == \"Negative\":\n",
        "        text = 1      \n",
        "    if text == \"Extremely Positive\":\n",
        "        text = 0\n",
        "    if text == \"Positive\":\n",
        "        text = 0\n",
        "    return text\n"
      ],
      "execution_count": null,
      "outputs": []
    },
    {
      "cell_type": "markdown",
      "metadata": {
        "id": "D5SFQHDTV2Fn"
      },
      "source": [
        "Call Splite Function"
      ]
    },
    {
      "cell_type": "code",
      "metadata": {
        "id": "g4aDNTTq2EQY"
      },
      "source": [
        "def split(first,second):\n",
        "    _tweet = first.values\n",
        "    _senti = second.values\n",
        "    return train_test_split(_tweet, _senti, test_size=0.25, random_state=1000)\n",
        "    # return sentences_train, sentences_test, y_train, y_test"
      ],
      "execution_count": null,
      "outputs": []
    },
    {
      "cell_type": "code",
      "metadata": {
        "colab": {
          "base_uri": "https://localhost:8080/",
          "height": 534
        },
        "id": "J3RVG-X4uPwU",
        "outputId": "57f57ab9-4033-4853-ad2f-0ff2a7a5a597"
      },
      "source": [
        "le=LabelEncoder()\n",
        "df[\"nSentiment\"]=df[\"Sentiment\"]\n",
        "df[\"nSentiment\"]=le.fit_transform(df[\"nSentiment\"])\n",
        "display(df[\"nSentiment\"].head())\n",
        "nSentiment=df[\"nSentiment\"]\n",
        "tweets=df.normlize_tweet.apply(listtostring)\n",
        "df.head()"
      ],
      "execution_count": null,
      "outputs": [
        {
          "output_type": "display_data",
          "data": {
            "text/plain": [
              "0    3\n",
              "1    4\n",
              "2    4\n",
              "3    4\n",
              "4    0\n",
              "Name: nSentiment, dtype: int64"
            ]
          },
          "metadata": {
            "tags": []
          }
        },
        {
          "output_type": "execute_result",
          "data": {
            "text/html": [
              "<div>\n",
              "<style scoped>\n",
              "    .dataframe tbody tr th:only-of-type {\n",
              "        vertical-align: middle;\n",
              "    }\n",
              "\n",
              "    .dataframe tbody tr th {\n",
              "        vertical-align: top;\n",
              "    }\n",
              "\n",
              "    .dataframe thead th {\n",
              "        text-align: right;\n",
              "    }\n",
              "</style>\n",
              "<table border=\"1\" class=\"dataframe\">\n",
              "  <thead>\n",
              "    <tr style=\"text-align: right;\">\n",
              "      <th></th>\n",
              "      <th>UserName</th>\n",
              "      <th>ScreenName</th>\n",
              "      <th>Location</th>\n",
              "      <th>TweetAt</th>\n",
              "      <th>OriginalTweet</th>\n",
              "      <th>Sentiment</th>\n",
              "      <th>normlize_tweet</th>\n",
              "      <th>nSentiment</th>\n",
              "    </tr>\n",
              "  </thead>\n",
              "  <tbody>\n",
              "    <tr>\n",
              "      <th>0</th>\n",
              "      <td>3799</td>\n",
              "      <td>48751</td>\n",
              "      <td>London</td>\n",
              "      <td>16-03-2020</td>\n",
              "      <td>gahan   and  and</td>\n",
              "      <td>Neutral</td>\n",
              "      <td>[gahan]</td>\n",
              "      <td>3</td>\n",
              "    </tr>\n",
              "    <tr>\n",
              "      <th>1</th>\n",
              "      <td>3800</td>\n",
              "      <td>48752</td>\n",
              "      <td>UK</td>\n",
              "      <td>16-03-2020</td>\n",
              "      <td>advice talk to your neighbours family to excha...</td>\n",
              "      <td>Positive</td>\n",
              "      <td>[advice, talk, neighbour, family, exchange, ph...</td>\n",
              "      <td>4</td>\n",
              "    </tr>\n",
              "    <tr>\n",
              "      <th>2</th>\n",
              "      <td>3801</td>\n",
              "      <td>48753</td>\n",
              "      <td>Vagabonds</td>\n",
              "      <td>16-03-2020</td>\n",
              "      <td>coronavirus australia woolworths to give elder...</td>\n",
              "      <td>Positive</td>\n",
              "      <td>[coronavirus, australia, woolworth, give, elde...</td>\n",
              "      <td>4</td>\n",
              "    </tr>\n",
              "    <tr>\n",
              "      <th>3</th>\n",
              "      <td>3802</td>\n",
              "      <td>48754</td>\n",
              "      <td>NaN</td>\n",
              "      <td>16-03-2020</td>\n",
              "      <td>my food stock is not the only one which is emp...</td>\n",
              "      <td>Positive</td>\n",
              "      <td>[food, stock, one, empty, please, panic, enoug...</td>\n",
              "      <td>4</td>\n",
              "    </tr>\n",
              "    <tr>\n",
              "      <th>4</th>\n",
              "      <td>3803</td>\n",
              "      <td>48755</td>\n",
              "      <td>NaN</td>\n",
              "      <td>16-03-2020</td>\n",
              "      <td>me ready to go at supermarket during the #covi...</td>\n",
              "      <td>Extremely Negative</td>\n",
              "      <td>[ready, go, supermarket, #covid19, outbreak, p...</td>\n",
              "      <td>0</td>\n",
              "    </tr>\n",
              "  </tbody>\n",
              "</table>\n",
              "</div>"
            ],
            "text/plain": [
              "   UserName  ...  nSentiment\n",
              "0      3799  ...           3\n",
              "1      3800  ...           4\n",
              "2      3801  ...           4\n",
              "3      3802  ...           4\n",
              "4      3803  ...           0\n",
              "\n",
              "[5 rows x 8 columns]"
            ]
          },
          "metadata": {
            "tags": []
          },
          "execution_count": 39
        }
      ]
    },
    {
      "cell_type": "markdown",
      "metadata": {
        "id": "bX-bqEkNWjth"
      },
      "source": [
        "1. Drop natural sentiment \n",
        "2. Turn data to binary data\n",
        "3. convert list to string "
      ]
    },
    {
      "cell_type": "code",
      "metadata": {
        "colab": {
          "base_uri": "https://localhost:8080/",
          "height": 484
        },
        "id": "MlIJSRluhTsQ",
        "outputId": "9c3deca1-5321-41bf-a741-39bf11e9f7e7"
      },
      "source": [
        "df.drop(df.index[(df[\"Sentiment\"] == \"Neutral\")],axis=0,inplace=True)\n",
        "df['binray_Sentiment']=df.Sentiment.apply(binray)\n",
        "binray_Sentiment=df['binray_Sentiment']\n",
        "df['normlize_tweet']=df.normlize_tweet.apply(listtostring)\n",
        "normlize_tweet=df['normlize_tweet']\n",
        "df.head()\n"
      ],
      "execution_count": null,
      "outputs": [
        {
          "output_type": "execute_result",
          "data": {
            "text/html": [
              "<div>\n",
              "<style scoped>\n",
              "    .dataframe tbody tr th:only-of-type {\n",
              "        vertical-align: middle;\n",
              "    }\n",
              "\n",
              "    .dataframe tbody tr th {\n",
              "        vertical-align: top;\n",
              "    }\n",
              "\n",
              "    .dataframe thead th {\n",
              "        text-align: right;\n",
              "    }\n",
              "</style>\n",
              "<table border=\"1\" class=\"dataframe\">\n",
              "  <thead>\n",
              "    <tr style=\"text-align: right;\">\n",
              "      <th></th>\n",
              "      <th>UserName</th>\n",
              "      <th>ScreenName</th>\n",
              "      <th>Location</th>\n",
              "      <th>TweetAt</th>\n",
              "      <th>OriginalTweet</th>\n",
              "      <th>Sentiment</th>\n",
              "      <th>normlize_tweet</th>\n",
              "      <th>nSentiment</th>\n",
              "      <th>binray_Sentiment</th>\n",
              "    </tr>\n",
              "  </thead>\n",
              "  <tbody>\n",
              "    <tr>\n",
              "      <th>1</th>\n",
              "      <td>3800</td>\n",
              "      <td>48752</td>\n",
              "      <td>UK</td>\n",
              "      <td>16-03-2020</td>\n",
              "      <td>advice talk to your neighbours family to excha...</td>\n",
              "      <td>Positive</td>\n",
              "      <td>advice talk neighbour family exchange phone nu...</td>\n",
              "      <td>4</td>\n",
              "      <td>0</td>\n",
              "    </tr>\n",
              "    <tr>\n",
              "      <th>2</th>\n",
              "      <td>3801</td>\n",
              "      <td>48753</td>\n",
              "      <td>Vagabonds</td>\n",
              "      <td>16-03-2020</td>\n",
              "      <td>coronavirus australia woolworths to give elder...</td>\n",
              "      <td>Positive</td>\n",
              "      <td>coronavirus australia woolworth give elderly d...</td>\n",
              "      <td>4</td>\n",
              "      <td>0</td>\n",
              "    </tr>\n",
              "    <tr>\n",
              "      <th>3</th>\n",
              "      <td>3802</td>\n",
              "      <td>48754</td>\n",
              "      <td>NaN</td>\n",
              "      <td>16-03-2020</td>\n",
              "      <td>my food stock is not the only one which is emp...</td>\n",
              "      <td>Positive</td>\n",
              "      <td>food stock one empty please panic enough food ...</td>\n",
              "      <td>4</td>\n",
              "      <td>0</td>\n",
              "    </tr>\n",
              "    <tr>\n",
              "      <th>4</th>\n",
              "      <td>3803</td>\n",
              "      <td>48755</td>\n",
              "      <td>NaN</td>\n",
              "      <td>16-03-2020</td>\n",
              "      <td>me ready to go at supermarket during the #covi...</td>\n",
              "      <td>Extremely Negative</td>\n",
              "      <td>ready go supermarket #covid19 outbreak paranoi...</td>\n",
              "      <td>0</td>\n",
              "      <td>1</td>\n",
              "    </tr>\n",
              "    <tr>\n",
              "      <th>5</th>\n",
              "      <td>3804</td>\n",
              "      <td>48756</td>\n",
              "      <td>ÃT: 36.319708,-82.363649</td>\n",
              "      <td>16-03-2020</td>\n",
              "      <td>as news of the region is first confirmed covid...</td>\n",
              "      <td>Positive</td>\n",
              "      <td>news region first confirmed covid-19 case came...</td>\n",
              "      <td>4</td>\n",
              "      <td>0</td>\n",
              "    </tr>\n",
              "  </tbody>\n",
              "</table>\n",
              "</div>"
            ],
            "text/plain": [
              "   UserName  ScreenName  ... nSentiment binray_Sentiment\n",
              "1      3800       48752  ...          4                0\n",
              "2      3801       48753  ...          4                0\n",
              "3      3802       48754  ...          4                0\n",
              "4      3803       48755  ...          0                1\n",
              "5      3804       48756  ...          4                0\n",
              "\n",
              "[5 rows x 9 columns]"
            ]
          },
          "metadata": {
            "tags": []
          },
          "execution_count": 40
        }
      ]
    },
    {
      "cell_type": "markdown",
      "metadata": {
        "id": "nuFXNZooW-xV"
      },
      "source": [
        "Bag of word features"
      ]
    },
    {
      "cell_type": "code",
      "metadata": {
        "id": "pOe4yxE3j2ru"
      },
      "source": [
        "def bow_features(X_train, X_test):\n",
        "    vectorizer = CountVectorizer()\n",
        "    vectorizer.fit(sentences_train)\n",
        "    X_train = vectorizer.transform(X_train)\n",
        "    X_test  = vectorizer.transform(X_test)\n",
        "    return X_train, X_test"
      ],
      "execution_count": null,
      "outputs": []
    },
    {
      "cell_type": "markdown",
      "metadata": {
        "id": "gY_7vzLNXC5v"
      },
      "source": [
        "Bag of word classifire "
      ]
    },
    {
      "cell_type": "code",
      "metadata": {
        "id": "7jBdKqsUj2oP"
      },
      "source": [
        "def classifierbow(X_train,y_train,y_test,X_test):\n",
        "    classifier = LogisticRegression()\n",
        "    classifier.fit(X_train, y_train)\n",
        "    score = classifier.score(X_test, y_test)\n",
        "    return score"
      ],
      "execution_count": null,
      "outputs": []
    },
    {
      "cell_type": "markdown",
      "metadata": {
        "id": "GXAhyGNYXIhd"
      },
      "source": [
        "tfidf features"
      ]
    },
    {
      "cell_type": "code",
      "metadata": {
        "id": "BCw1gKEVi7Kf"
      },
      "source": [
        "def tfidf_features(X_train, X_test):\n",
        "    tfidf_vectorizer = TfidfVectorizer(min_df=2, max_df=0.5, ngram_range=(1, 3))\n",
        "    tfidf_vectorizer.fit(sentences_train)\n",
        "    X_train = tfidf_vectorizer.transform(X_train)\n",
        "    X_test = tfidf_vectorizer.transform(X_test)\n",
        "    return X_train, X_test"
      ],
      "execution_count": null,
      "outputs": []
    },
    {
      "cell_type": "markdown",
      "metadata": {
        "id": "UBA1yzh7XNs6"
      },
      "source": [
        "tfidf classifire"
      ]
    },
    {
      "cell_type": "code",
      "metadata": {
        "id": "ucrJLhlhi7Hd"
      },
      "source": [
        "def classifiertfidf(X_train,y_train,y_test,X_test):\n",
        "    classifier = RidgeClassifier()\n",
        "    classifier.fit(X_train, y_train)\n",
        "    score = classifier.score(X_test, y_test)\n",
        "    return score"
      ],
      "execution_count": null,
      "outputs": []
    },
    {
      "cell_type": "markdown",
      "metadata": {
        "id": "aIx4vAbBzCo7"
      },
      "source": [
        "#First Test \n",
        "BOF AND TFIDF ON Binary Data"
      ]
    },
    {
      "cell_type": "code",
      "metadata": {
        "id": "AGAv_5s_hTK-"
      },
      "source": [
        "sentences_train, sentences_test, y_train, y_test=split(normlize_tweet, binray_Sentiment)\n",
        "X_train_bag, X_test_bag = bow_features(sentences_train, sentences_test)\n",
        "X_train_tfidf, X_test_tfidf = tfidf_features(sentences_train, sentences_test)"
      ],
      "execution_count": null,
      "outputs": []
    },
    {
      "cell_type": "code",
      "metadata": {
        "colab": {
          "base_uri": "https://localhost:8080/"
        },
        "id": "VpYeb3PNhTIS",
        "outputId": "a9ccf8e3-c812-4706-9898-980ed9e74797"
      },
      "source": [
        "classifier_bag = classifierbow(X_train_bag, y_train,y_test,X_test_bag)\n",
        "classifier_tfidf = classifiertfidf(X_train_tfidf, y_train,y_test,X_test_tfidf)"
      ],
      "execution_count": null,
      "outputs": [
        {
          "output_type": "stream",
          "text": [
            "/usr/local/lib/python3.6/dist-packages/sklearn/linear_model/_logistic.py:940: ConvergenceWarning: lbfgs failed to converge (status=1):\n",
            "STOP: TOTAL NO. of ITERATIONS REACHED LIMIT.\n",
            "\n",
            "Increase the number of iterations (max_iter) or scale the data as shown in:\n",
            "    https://scikit-learn.org/stable/modules/preprocessing.html\n",
            "Please also refer to the documentation for alternative solver options:\n",
            "    https://scikit-learn.org/stable/modules/linear_model.html#logistic-regression\n",
            "  extra_warning_msg=_LOGISTIC_SOLVER_CONVERGENCE_MSG)\n"
          ],
          "name": "stderr"
        }
      ]
    },
    {
      "cell_type": "markdown",
      "metadata": {
        "id": "_miDmV_OXZmi"
      },
      "source": [
        "First Test Result : "
      ]
    },
    {
      "cell_type": "code",
      "metadata": {
        "colab": {
          "base_uri": "https://localhost:8080/"
        },
        "id": "QYvFtV5nhSyN",
        "outputId": "dd2b0699-bf37-4a62-d936-44991ccf8b5d"
      },
      "source": [
        "print('Bag-of-words Accuracy: '+ str(classifier_bag) )\n",
        "print('Tfidf Accuracy: ' + str(classifier_tfidf) )"
      ],
      "execution_count": null,
      "outputs": [
        {
          "output_type": "stream",
          "text": [
            "Bag-of-words Accuracy: 0.8729817007534983\n",
            "Tfidf Accuracy: 0.852529601722282\n"
          ],
          "name": "stdout"
        }
      ]
    },
    {
      "cell_type": "markdown",
      "metadata": {
        "id": "N3-HIC0azLLP"
      },
      "source": [
        "\n",
        "Plot History Function to plot validation\n"
      ]
    },
    {
      "cell_type": "code",
      "metadata": {
        "id": "yqu8vVbAzbbL"
      },
      "source": [
        "def plot_history(history):\n",
        "    acc = history.history['accuracy']\n",
        "    val_acc = history.history['val_accuracy']\n",
        "    loss = history.history['loss']\n",
        "    val_loss = history.history['val_loss']\n",
        "    x = range(1, len(acc) + 1)\n",
        "\n",
        "    plt.figure(figsize=(12, 5))\n",
        "    plt.subplot(1, 2, 1)\n",
        "    plt.plot(x, acc, 'b', label='Training acc')\n",
        "    plt.plot(x, val_acc, 'r', label='Validation acc')\n",
        "    plt.title('Training and validation accuracy')\n",
        "    plt.legend()\n",
        "    plt.subplot(1, 2, 2)\n",
        "    plt.plot(x, loss, 'b', label='Training loss')\n",
        "    plt.plot(x, val_loss, 'r', label='Validation loss')\n",
        "    plt.title('Training and validation loss')\n",
        "    plt.legend()"
      ],
      "execution_count": null,
      "outputs": []
    },
    {
      "cell_type": "markdown",
      "metadata": {
        "id": "dMcxwiOnX4MM"
      },
      "source": [
        "NN on Binary Data\n",
        "- used 1 CNN and bidirection lstm\n",
        "- i test many model then figure this is the best model with out over fitting for 5 epoch"
      ]
    },
    {
      "cell_type": "code",
      "metadata": {
        "id": "osTwjJXLzKXY"
      },
      "source": [
        "sentences_train, sentences_test, y_train, y_test=split(normlize_tweet,binray_Sentiment)\n",
        "tokenizer = Tokenizer(num_words=5000)\n",
        "tokenizer.fit_on_texts(sentences_train)\n",
        "X_train = tokenizer.texts_to_sequences(sentences_train)\n",
        "X_test = tokenizer.texts_to_sequences(sentences_test)\n",
        "vocab_size = len(tokenizer.word_index) + 1\n",
        "embedding_dim = 50\n",
        "maxlen = 100\n",
        "n_timesteps = 10\n",
        "X_train = pad_sequences(X_train, padding='post', maxlen=maxlen)\n",
        "X_test = pad_sequences(X_test, padding='post', maxlen=maxlen)\n"
      ],
      "execution_count": null,
      "outputs": []
    },
    {
      "cell_type": "code",
      "metadata": {
        "colab": {
          "base_uri": "https://localhost:8080/"
        },
        "id": "1HcDYkQBzKSr",
        "outputId": "f47004fd-8e61-4251-d043-c713c550be22"
      },
      "source": [
        "model = Sequential()\n",
        "model.add(layers.Embedding(vocab_size, embedding_dim, input_length=maxlen ))\n",
        "model.add(Conv1D(filters=32, kernel_size=5, activation='relu'))\n",
        "model.add(Bidirectional(LSTM(20, return_sequences=True), input_shape=(n_timesteps, 1)))\n",
        "model.add(layers.MaxPooling1D())\n",
        "model.add(Dense(1, activation='sigmoid'))\n",
        "model.compile(optimizer='adam', loss='binary_crossentropy', metrics=['accuracy'])\n",
        "model.summary()\n",
        "history=model.fit(X_train,y_train,epochs=5,verbose=1,validation_data=(X_test, y_test),batch_size=256)\n",
        "loss,score = model.evaluate(X_train, y_train, verbose=False)\n",
        "print(\"score:{:.4f}\".format(score))\n",
        "loss,score = model.evaluate(X_test, y_test, verbose=False)\n",
        "print(\"score:{:.4f}\".format(score))"
      ],
      "execution_count": null,
      "outputs": [
        {
          "output_type": "stream",
          "text": [
            "Model: \"sequential\"\n",
            "_________________________________________________________________\n",
            "Layer (type)                 Output Shape              Param #   \n",
            "=================================================================\n",
            "embedding (Embedding)        (None, 100, 50)           1803950   \n",
            "_________________________________________________________________\n",
            "conv1d (Conv1D)              (None, 96, 32)            8032      \n",
            "_________________________________________________________________\n",
            "bidirectional (Bidirectional (None, 96, 40)            8480      \n",
            "_________________________________________________________________\n",
            "max_pooling1d (MaxPooling1D) (None, 48, 40)            0         \n",
            "_________________________________________________________________\n",
            "dense (Dense)                (None, 48, 1)             41        \n",
            "=================================================================\n",
            "Total params: 1,820,503\n",
            "Trainable params: 1,820,503\n",
            "Non-trainable params: 0\n",
            "_________________________________________________________________\n",
            "Epoch 1/5\n",
            "98/98 [==============================] - 24s 211ms/step - loss: 0.6777 - accuracy: 0.5526 - val_loss: 0.4954 - val_accuracy: 0.7861\n",
            "Epoch 2/5\n",
            "98/98 [==============================] - 20s 200ms/step - loss: 0.4338 - accuracy: 0.8308 - val_loss: 0.4118 - val_accuracy: 0.8241\n",
            "Epoch 3/5\n",
            "98/98 [==============================] - 19s 198ms/step - loss: 0.2998 - accuracy: 0.8931 - val_loss: 0.3715 - val_accuracy: 0.8444\n",
            "Epoch 4/5\n",
            "98/98 [==============================] - 20s 200ms/step - loss: 0.2342 - accuracy: 0.9236 - val_loss: 0.3693 - val_accuracy: 0.8541\n",
            "Epoch 5/5\n",
            "98/98 [==============================] - 20s 200ms/step - loss: 0.1931 - accuracy: 0.9398 - val_loss: 0.3825 - val_accuracy: 0.8545\n",
            "score:0.9588\n",
            "score:0.8545\n"
          ],
          "name": "stdout"
        }
      ]
    },
    {
      "cell_type": "code",
      "metadata": {
        "colab": {
          "base_uri": "https://localhost:8080/",
          "height": 301
        },
        "id": "91o6pFG6zKNy",
        "outputId": "11bf3d56-d95f-4266-9c58-feb240957653"
      },
      "source": [
        "plot_history(history)"
      ],
      "execution_count": null,
      "outputs": [
        {
          "output_type": "display_data",
          "data": {
            "image/png": "[encoded data removed]",
            "text/plain": [
              "<Figure size 864x360 with 2 Axes>"
            ]
          },
          "metadata": {
            "tags": [],
            "needs_background": "light"
          }
        }
      ]
    },
    {
      "cell_type": "markdown",
      "metadata": {
        "id": "YwzlKGRkzhV7"
      },
      "source": [
        "#**BOF** , Tfidf , NN With Out Hashtags (Binary Data)"
      ]
    },
    {
      "cell_type": "code",
      "metadata": {
        "id": "tZqRFGqZzKI-"
      },
      "source": [
        "normlize_tweet1=normlize_tweet.apply(remove_hashtags)\n"
      ],
      "execution_count": null,
      "outputs": []
    },
    {
      "cell_type": "code",
      "metadata": {
        "id": "uLH6nyx7zKD5"
      },
      "source": [
        "sentences_train, sentences_test, y_train, y_test=split(normlize_tweet1,binray_Sentiment)\n",
        "X_train_bag, X_test_bag = bow_features(sentences_train, sentences_test)\n",
        "X_train_tfidf, X_test_tfidf = tfidf_features(sentences_train, sentences_test)"
      ],
      "execution_count": null,
      "outputs": []
    },
    {
      "cell_type": "code",
      "metadata": {
        "colab": {
          "base_uri": "https://localhost:8080/"
        },
        "id": "b011YkdRzJ_0",
        "outputId": "93ba7b04-3d21-4f49-8e19-ae6847fcfcab"
      },
      "source": [
        "classifier_bag = classifierbow(X_train_bag, y_train,y_test,X_test_bag)\n",
        "classifier_tfidf = classifiertfidf(X_train_tfidf, y_train,y_test,X_test_tfidf)"
      ],
      "execution_count": null,
      "outputs": [
        {
          "output_type": "stream",
          "text": [
            "/usr/local/lib/python3.6/dist-packages/sklearn/linear_model/_logistic.py:940: ConvergenceWarning: lbfgs failed to converge (status=1):\n",
            "STOP: TOTAL NO. of ITERATIONS REACHED LIMIT.\n",
            "\n",
            "Increase the number of iterations (max_iter) or scale the data as shown in:\n",
            "    https://scikit-learn.org/stable/modules/preprocessing.html\n",
            "Please also refer to the documentation for alternative solver options:\n",
            "    https://scikit-learn.org/stable/modules/linear_model.html#logistic-regression\n",
            "  extra_warning_msg=_LOGISTIC_SOLVER_CONVERGENCE_MSG)\n"
          ],
          "name": "stderr"
        }
      ]
    },
    {
      "cell_type": "code",
      "metadata": {
        "colab": {
          "base_uri": "https://localhost:8080/"
        },
        "id": "Ayk-nIGvzJ69",
        "outputId": "78b0f995-7fac-45a6-9910-65cc5ed25787"
      },
      "source": [
        "print('Bag-of-words Accuracy: '+ str(classifier_bag) )\n",
        "print('Tfidf Accuracy: ' + str(classifier_tfidf) )"
      ],
      "execution_count": null,
      "outputs": [
        {
          "output_type": "stream",
          "text": [
            "Bag-of-words Accuracy: 0.873340509508432\n",
            "Tfidf Accuracy: 0.8540844396603278\n"
          ],
          "name": "stdout"
        }
      ]
    },
    {
      "cell_type": "code",
      "metadata": {
        "id": "7oSck2NezJ2p"
      },
      "source": [
        "sentences_train, sentences_test, y_train, y_test=split(normlize_tweet1,binray_Sentiment)\n",
        "tokenizer = Tokenizer(num_words=5000)\n",
        "tokenizer.fit_on_texts(sentences_train)\n",
        "X_train = tokenizer.texts_to_sequences(sentences_train)\n",
        "X_test = tokenizer.texts_to_sequences(sentences_test)\n",
        "vocab_size = len(tokenizer.word_index) + 1\n",
        "embedding_dim = 50\n",
        "maxlen = 100\n",
        "n_timesteps = 10\n",
        "X_train = pad_sequences(X_train, padding='post', maxlen=maxlen)\n",
        "X_test = pad_sequences(X_test, padding='post', maxlen=maxlen)"
      ],
      "execution_count": null,
      "outputs": []
    },
    {
      "cell_type": "code",
      "metadata": {
        "colab": {
          "base_uri": "https://localhost:8080/"
        },
        "id": "7KyK0IQUzJxt",
        "outputId": "5edbec49-a74e-42fc-ab49-9e5378c2a6ea"
      },
      "source": [
        "model = Sequential()\n",
        "model.add(layers.Embedding(vocab_size, embedding_dim, input_length=maxlen ))\n",
        "model.add(Conv1D(filters=32, kernel_size=5, activation='relu'))\n",
        "model.add(Bidirectional(LSTM(20, return_sequences=True), input_shape=(n_timesteps, 1)))\n",
        "model.add(layers.MaxPooling1D())\n",
        "model.add(Dense(1, activation='sigmoid'))\n",
        "\n",
        "model.compile(optimizer='adam', loss='binary_crossentropy', metrics=['accuracy'])\n",
        "model.summary()\n",
        "history=model.fit(X_train,y_train,epochs=5,verbose=1,validation_data=(X_test, y_test),batch_size=256)\n",
        "loss,score = model.evaluate(X_train, y_train, verbose=False)\n",
        "print(\"score:{:.4f}\".format(score))\n",
        "loss,score = model.evaluate(X_test, y_test, verbose=False)\n",
        "print(\"score:{:.4f}\".format(score))"
      ],
      "execution_count": null,
      "outputs": [
        {
          "output_type": "stream",
          "text": [
            "Model: \"sequential_1\"\n",
            "_________________________________________________________________\n",
            "Layer (type)                 Output Shape              Param #   \n",
            "=================================================================\n",
            "embedding_1 (Embedding)      (None, 100, 50)           1808850   \n",
            "_________________________________________________________________\n",
            "conv1d_1 (Conv1D)            (None, 96, 32)            8032      \n",
            "_________________________________________________________________\n",
            "bidirectional_1 (Bidirection (None, 96, 40)            8480      \n",
            "_________________________________________________________________\n",
            "max_pooling1d_1 (MaxPooling1 (None, 48, 40)            0         \n",
            "_________________________________________________________________\n",
            "dense_1 (Dense)              (None, 48, 1)             41        \n",
            "=================================================================\n",
            "Total params: 1,825,403\n",
            "Trainable params: 1,825,403\n",
            "Non-trainable params: 0\n",
            "_________________________________________________________________\n",
            "Epoch 1/5\n",
            "98/98 [==============================] - 24s 209ms/step - loss: 0.6835 - accuracy: 0.5470 - val_loss: 0.5535 - val_accuracy: 0.7391\n",
            "Epoch 2/5\n",
            "98/98 [==============================] - 20s 200ms/step - loss: 0.4882 - accuracy: 0.7941 - val_loss: 0.5015 - val_accuracy: 0.7750\n",
            "Epoch 3/5\n",
            "98/98 [==============================] - 19s 199ms/step - loss: 0.4188 - accuracy: 0.8330 - val_loss: 0.4157 - val_accuracy: 0.8235\n",
            "Epoch 4/5\n",
            "98/98 [==============================] - 19s 199ms/step - loss: 0.2999 - accuracy: 0.8891 - val_loss: 0.3857 - val_accuracy: 0.8418\n",
            "Epoch 5/5\n",
            "98/98 [==============================] - 20s 200ms/step - loss: 0.2398 - accuracy: 0.9207 - val_loss: 0.3813 - val_accuracy: 0.8476\n",
            "score:0.9418\n",
            "score:0.8476\n"
          ],
          "name": "stdout"
        }
      ]
    },
    {
      "cell_type": "code",
      "metadata": {
        "colab": {
          "base_uri": "https://localhost:8080/",
          "height": 301
        },
        "id": "0BMhaObtzJtG",
        "outputId": "fc19e1d7-03d0-4b3f-ad12-7672949c3456"
      },
      "source": [
        "plot_history(history)"
      ],
      "execution_count": null,
      "outputs": [
        {
          "output_type": "display_data",
          "data": {
            "image/png": "[encoded data removed]",
            "text/plain": [
              "<Figure size 864x360 with 2 Axes>"
            ]
          },
          "metadata": {
            "tags": [],
            "needs_background": "light"
          }
        }
      ]
    },
    {
      "cell_type": "markdown",
      "metadata": {
        "id": "klmAjXne0BZ7"
      },
      "source": [
        "\n",
        "#BOF , tfidf ,NN without Full Hashtags sentens (Binary Data)"
      ]
    },
    {
      "cell_type": "code",
      "metadata": {
        "id": "pG2FRGDpzJmo"
      },
      "source": [
        "normlize_tweet2=normlize_tweet.apply(remove_fullhashtags)"
      ],
      "execution_count": null,
      "outputs": []
    },
    {
      "cell_type": "code",
      "metadata": {
        "id": "NLABd_D6zJhL"
      },
      "source": [
        "sentences_train, sentences_test, y_train, y_test=split(normlize_tweet2,binray_Sentiment)\n",
        "X_train_bag, X_test_bag = bow_features(sentences_train, sentences_test)\n",
        "X_train_tfidf, X_test_tfidf = tfidf_features(sentences_train, sentences_test)"
      ],
      "execution_count": null,
      "outputs": []
    },
    {
      "cell_type": "code",
      "metadata": {
        "colab": {
          "base_uri": "https://localhost:8080/"
        },
        "id": "KDDWOw8IzJcA",
        "outputId": "9b357c61-2b10-494e-bc33-6b2d92cc7d16"
      },
      "source": [
        "classifier_bag = classifierbow(X_train_bag, y_train,y_test,X_test_bag)\n",
        "classifier_tfidf = classifiertfidf(X_train_tfidf, y_train,y_test,X_test_tfidf)"
      ],
      "execution_count": null,
      "outputs": [
        {
          "output_type": "stream",
          "text": [
            "/usr/local/lib/python3.6/dist-packages/sklearn/linear_model/_logistic.py:940: ConvergenceWarning: lbfgs failed to converge (status=1):\n",
            "STOP: TOTAL NO. of ITERATIONS REACHED LIMIT.\n",
            "\n",
            "Increase the number of iterations (max_iter) or scale the data as shown in:\n",
            "    https://scikit-learn.org/stable/modules/preprocessing.html\n",
            "Please also refer to the documentation for alternative solver options:\n",
            "    https://scikit-learn.org/stable/modules/linear_model.html#logistic-regression\n",
            "  extra_warning_msg=_LOGISTIC_SOLVER_CONVERGENCE_MSG)\n"
          ],
          "name": "stderr"
        }
      ]
    },
    {
      "cell_type": "code",
      "metadata": {
        "colab": {
          "base_uri": "https://localhost:8080/"
        },
        "id": "dhgD9gvM0NrQ",
        "outputId": "4db46f58-e935-4c0a-d4c0-60074a703820"
      },
      "source": [
        "print('Bag-of-words Accuracy: '+ str(classifier_bag) )\n",
        "print('Tfidf Accuracy: ' + str(classifier_tfidf) )"
      ],
      "execution_count": null,
      "outputs": [
        {
          "output_type": "stream",
          "text": [
            "Bag-of-words Accuracy: 0.8809950962803492\n",
            "Tfidf Accuracy: 0.8610214089223777\n"
          ],
          "name": "stdout"
        }
      ]
    },
    {
      "cell_type": "code",
      "metadata": {
        "id": "oxLlQlpU0Nm0"
      },
      "source": [
        "sentences_train, sentences_test, y_train, y_test=split(normlize_tweet2,binray_Sentiment)\n",
        "tokenizer = Tokenizer(num_words=5000)\n",
        "tokenizer.fit_on_texts(sentences_train)\n",
        "X_train = tokenizer.texts_to_sequences(sentences_train)\n",
        "X_test = tokenizer.texts_to_sequences(sentences_test)\n",
        "vocab_size = len(tokenizer.word_index) + 1\n",
        "embedding_dim = 50\n",
        "maxlen = 100\n",
        "n_timesteps = 10\n",
        "X_train = pad_sequences(X_train, padding='post', maxlen=maxlen)\n",
        "X_test = pad_sequences(X_test, padding='post', maxlen=maxlen)"
      ],
      "execution_count": null,
      "outputs": []
    },
    {
      "cell_type": "code",
      "metadata": {
        "colab": {
          "base_uri": "https://localhost:8080/"
        },
        "id": "3qDTD-s_0Nim",
        "outputId": "761da2f3-010b-4adc-a8d6-306e3ac05333"
      },
      "source": [
        "model = Sequential()\n",
        "model.add(layers.Embedding(vocab_size, embedding_dim, input_length=maxlen ))\n",
        "model.add(Conv1D(filters=32, kernel_size=5, activation='relu'))\n",
        "model.add(Bidirectional(LSTM(20, return_sequences=True), input_shape=(n_timesteps, 1)))\n",
        "model.add(layers.MaxPooling1D())\n",
        "model.add(Dense(1, activation='sigmoid'))\n",
        "\n",
        "model.compile(optimizer='adam', loss='binary_crossentropy', metrics=['accuracy'])\n",
        "model.summary()\n",
        "history=model.fit(X_train,y_train,epochs=5,verbose=1,validation_data=(X_test, y_test),batch_size=256)\n",
        "loss,score = model.evaluate(X_train, y_train, verbose=False)\n",
        "print(\"score:{:.4f}\".format(score))\n",
        "loss,score = model.evaluate(X_test, y_test, verbose=False)\n",
        "print(\"score:{:.4f}\".format(score))"
      ],
      "execution_count": null,
      "outputs": [
        {
          "output_type": "stream",
          "text": [
            "Model: \"sequential_2\"\n",
            "_________________________________________________________________\n",
            "Layer (type)                 Output Shape              Param #   \n",
            "=================================================================\n",
            "embedding_2 (Embedding)      (None, 100, 50)           1416250   \n",
            "_________________________________________________________________\n",
            "conv1d_2 (Conv1D)            (None, 96, 32)            8032      \n",
            "_________________________________________________________________\n",
            "bidirectional_2 (Bidirection (None, 96, 40)            8480      \n",
            "_________________________________________________________________\n",
            "max_pooling1d_2 (MaxPooling1 (None, 48, 40)            0         \n",
            "_________________________________________________________________\n",
            "dense_2 (Dense)              (None, 48, 1)             41        \n",
            "=================================================================\n",
            "Total params: 1,432,803\n",
            "Trainable params: 1,432,803\n",
            "Non-trainable params: 0\n",
            "_________________________________________________________________\n",
            "Epoch 1/5\n",
            "98/98 [==============================] - 23s 206ms/step - loss: 0.6801 - accuracy: 0.5452 - val_loss: 0.5219 - val_accuracy: 0.7753\n",
            "Epoch 2/5\n",
            "98/98 [==============================] - 19s 195ms/step - loss: 0.4613 - accuracy: 0.8145 - val_loss: 0.4153 - val_accuracy: 0.8284\n",
            "Epoch 3/5\n",
            "98/98 [==============================] - 19s 196ms/step - loss: 0.3062 - accuracy: 0.8883 - val_loss: 0.3777 - val_accuracy: 0.8468\n",
            "Epoch 4/5\n",
            "98/98 [==============================] - 19s 195ms/step - loss: 0.2429 - accuracy: 0.9190 - val_loss: 0.3688 - val_accuracy: 0.8582\n",
            "Epoch 5/5\n",
            "98/98 [==============================] - 19s 196ms/step - loss: 0.2048 - accuracy: 0.9354 - val_loss: 0.3516 - val_accuracy: 0.8619\n",
            "score:0.9545\n",
            "score:0.8619\n"
          ],
          "name": "stdout"
        }
      ]
    },
    {
      "cell_type": "code",
      "metadata": {
        "colab": {
          "base_uri": "https://localhost:8080/",
          "height": 301
        },
        "id": "AQemyePe0Ndf",
        "outputId": "8aa21848-6788-45e2-a2f3-d20dd099224f"
      },
      "source": [
        "plot_history(history)"
      ],
      "execution_count": null,
      "outputs": [
        {
          "output_type": "display_data",
          "data": {
            "image/png": "[encoded data removed]",
            "text/plain": [
              "<Figure size 864x360 with 2 Axes>"
            ]
          },
          "metadata": {
            "tags": [],
            "needs_background": "light"
          }
        }
      ]
    },
    {
      "cell_type": "markdown",
      "metadata": {
        "id": "oQoauh4Z035p"
      },
      "source": [
        "#*Bof* , tfidf , NN Without fullhash (Full Data)"
      ]
    },
    {
      "cell_type": "code",
      "metadata": {
        "id": "gdZ-ND_x1X2p"
      },
      "source": [
        "tweets=tweets.apply(remove_fullhashtags)\n"
      ],
      "execution_count": null,
      "outputs": []
    },
    {
      "cell_type": "code",
      "metadata": {
        "id": "BEepwIcO03wW"
      },
      "source": [
        "sentences_train, sentences_test, y_train, y_test=split(tweets,nSentiment)\n",
        "X_train_bag, X_test_bag = bow_features(sentences_train, sentences_test)\n",
        "X_train_tfidf, X_test_tfidf = tfidf_features(sentences_train, sentences_test)"
      ],
      "execution_count": null,
      "outputs": []
    },
    {
      "cell_type": "code",
      "metadata": {
        "colab": {
          "base_uri": "https://localhost:8080/"
        },
        "id": "Qn47fgun03pA",
        "outputId": "71a2ece4-670f-40f9-beb5-9d4e62d7662c"
      },
      "source": [
        "classifier_bag = classifierbow(X_train_bag, y_train,y_test,X_test_bag)\n",
        "classifier_tfidf = classifiertfidf(X_train_tfidf, y_train,y_test,X_test_tfidf)"
      ],
      "execution_count": null,
      "outputs": [
        {
          "output_type": "stream",
          "text": [
            "/usr/local/lib/python3.6/dist-packages/sklearn/linear_model/_logistic.py:940: ConvergenceWarning: lbfgs failed to converge (status=1):\n",
            "STOP: TOTAL NO. of ITERATIONS REACHED LIMIT.\n",
            "\n",
            "Increase the number of iterations (max_iter) or scale the data as shown in:\n",
            "    https://scikit-learn.org/stable/modules/preprocessing.html\n",
            "Please also refer to the documentation for alternative solver options:\n",
            "    https://scikit-learn.org/stable/modules/linear_model.html#logistic-regression\n",
            "  extra_warning_msg=_LOGISTIC_SOLVER_CONVERGENCE_MSG)\n"
          ],
          "name": "stderr"
        }
      ]
    },
    {
      "cell_type": "code",
      "metadata": {
        "colab": {
          "base_uri": "https://localhost:8080/"
        },
        "id": "5H0ZIlua03ko",
        "outputId": "65934ef3-3861-4057-c450-f6726c638017"
      },
      "source": [
        "print('Bag-of-words Accuracy: '+ str(classifier_bag) )\n",
        "print('Tfidf Accuracy: ' + str(classifier_tfidf) )"
      ],
      "execution_count": null,
      "outputs": [
        {
          "output_type": "stream",
          "text": [
            "Bag-of-words Accuracy: 0.6341107871720116\n",
            "Tfidf Accuracy: 0.5486880466472304\n"
          ],
          "name": "stdout"
        }
      ]
    },
    {
      "cell_type": "code",
      "metadata": {
        "id": "xS4iHxlX03gI"
      },
      "source": [
        "sentences_train, sentences_test, y_train, y_test=split(tweets,nSentiment)\n",
        "\n",
        "tokenizer = Tokenizer(num_words=5000)\n",
        "tokenizer.fit_on_texts(sentences_train)\n",
        "X_train = tokenizer.texts_to_sequences(sentences_train)\n",
        "X_test = tokenizer.texts_to_sequences(sentences_test)\n",
        "vocab_size = len(tokenizer.word_index) + 1\n",
        "embedding_dim = 50\n",
        "maxlen = 100\n",
        "X_train = pad_sequences(X_train, padding='post', maxlen=maxlen)\n",
        "X_test = pad_sequences(X_test, padding='post', maxlen=maxlen)\n"
      ],
      "execution_count": null,
      "outputs": []
    },
    {
      "cell_type": "markdown",
      "metadata": {
        "id": "FbQ_15ouZYDN"
      },
      "source": [
        "this model and tokenize saved for evaluate "
      ]
    },
    {
      "cell_type": "code",
      "metadata": {
        "colab": {
          "base_uri": "https://localhost:8080/"
        },
        "id": "yR1yuRV20NZX",
        "outputId": "08dc9e65-ee57-40aa-948f-9626052c57ce"
      },
      "source": [
        "model = Sequential()\n",
        "model.add(layers.Embedding(vocab_size, embedding_dim, input_length=maxlen ))\n",
        "model.add(Conv1D(filters=32, kernel_size=3, padding='same', activation='relu'))\n",
        "model.add(Bidirectional(LSTM(10, return_sequences=True), input_shape=(n_timesteps, 1)))\n",
        "model.add(layers.GlobalMaxPooling1D())\n",
        "model.add(Dense(5, activation='softmax'))\n",
        "model.compile(optimizer='adam', loss='sparse_categorical_crossentropy', metrics=['accuracy'])\n",
        "model.summary()\n",
        "history=model.fit(X_train,y_train,epochs=5,verbose=1,validation_data=(X_test, y_test),batch_size=256)\n",
        "model.save('my_model')\n",
        "with open('tokenizer.pickle', 'wb') as handle:\n",
        "    pickle.dump(tokenizer, handle, protocol=pickle.HIGHEST_PROTOCOL)\n",
        "loss,score = model.evaluate(X_train, y_train, verbose=False)\n",
        "print(\"score:{:.4f}\".format(score))\n",
        "loss,score = model.evaluate(X_test, y_test, verbose=False)\n",
        "print(\"score:{:.4f}\".format(score))\n"
      ],
      "execution_count": null,
      "outputs": [
        {
          "output_type": "stream",
          "text": [
            "Model: \"sequential_3\"\n",
            "_________________________________________________________________\n",
            "Layer (type)                 Output Shape              Param #   \n",
            "=================================================================\n",
            "embedding_3 (Embedding)      (None, 100, 50)           1562250   \n",
            "_________________________________________________________________\n",
            "conv1d_3 (Conv1D)            (None, 100, 32)           4832      \n",
            "_________________________________________________________________\n",
            "bidirectional_3 (Bidirection (None, 100, 20)           3440      \n",
            "_________________________________________________________________\n",
            "global_max_pooling1d (Global (None, 20)                0         \n",
            "_________________________________________________________________\n",
            "dense_3 (Dense)              (None, 5)                 105       \n",
            "=================================================================\n",
            "Total params: 1,570,627\n",
            "Trainable params: 1,570,627\n",
            "Non-trainable params: 0\n",
            "_________________________________________________________________\n",
            "Epoch 1/5\n",
            "121/121 [==============================] - 22s 157ms/step - loss: 1.5661 - accuracy: 0.2845 - val_loss: 1.2362 - val_accuracy: 0.4825\n",
            "Epoch 2/5\n",
            "121/121 [==============================] - 18s 151ms/step - loss: 1.0995 - accuracy: 0.5539 - val_loss: 0.9207 - val_accuracy: 0.6650\n",
            "Epoch 3/5\n",
            "121/121 [==============================] - 18s 152ms/step - loss: 0.8302 - accuracy: 0.7132 - val_loss: 0.8327 - val_accuracy: 0.7071\n",
            "Epoch 4/5\n",
            "121/121 [==============================] - 19s 161ms/step - loss: 0.7089 - accuracy: 0.7729 - val_loss: 0.8240 - val_accuracy: 0.7029\n",
            "Epoch 5/5\n",
            "121/121 [==============================] - 18s 150ms/step - loss: 0.6696 - accuracy: 0.7816 - val_loss: 0.8020 - val_accuracy: 0.7173\n"
          ],
          "name": "stdout"
        },
        {
          "output_type": "stream",
          "text": [
            "WARNING:absl:Found untraced functions such as lstm_cell_10_layer_call_fn, lstm_cell_10_layer_call_and_return_conditional_losses, lstm_cell_11_layer_call_fn, lstm_cell_11_layer_call_and_return_conditional_losses, lstm_cell_10_layer_call_fn while saving (showing 5 of 10). These functions will not be directly callable after loading.\n",
            "WARNING:absl:Found untraced functions such as lstm_cell_10_layer_call_fn, lstm_cell_10_layer_call_and_return_conditional_losses, lstm_cell_11_layer_call_fn, lstm_cell_11_layer_call_and_return_conditional_losses, lstm_cell_10_layer_call_fn while saving (showing 5 of 10). These functions will not be directly callable after loading.\n"
          ],
          "name": "stderr"
        },
        {
          "output_type": "stream",
          "text": [
            "INFO:tensorflow:Assets written to: my_model/assets\n"
          ],
          "name": "stdout"
        },
        {
          "output_type": "stream",
          "text": [
            "INFO:tensorflow:Assets written to: my_model/assets\n"
          ],
          "name": "stderr"
        },
        {
          "output_type": "stream",
          "text": [
            "score:0.8127\n",
            "score:0.7173\n"
          ],
          "name": "stdout"
        }
      ]
    },
    {
      "cell_type": "code",
      "metadata": {
        "colab": {
          "base_uri": "https://localhost:8080/",
          "height": 304
        },
        "id": "uAVmQtCa1UO4",
        "outputId": "e5955c38-17b7-46cc-9b9f-b98a50517b42"
      },
      "source": [
        "plot_history(history)"
      ],
      "execution_count": null,
      "outputs": [
        {
          "output_type": "display_data",
          "data": {
            "image/png": "[encoded data removed]",
            "text/plain": [
              "<Figure size 864x360 with 2 Axes>"
            ]
          },
          "metadata": {
            "tags": [],
            "needs_background": "light"
          }
        }
      ]
    },
    {
      "cell_type": "markdown",
      "metadata": {
        "id": "dE3t_VS83728"
      },
      "source": [
        "#Final Code\n",
        "after testing the best data has been with out hashtags sentains \n",
        "so i make the testing result function based on that model \n",
        "\n"
      ]
    },
    {
      "cell_type": "code",
      "metadata": {
        "id": "juKYayQi32cx"
      },
      "source": [
        "def testing_result(url):\n",
        "  df = pd.read_csv(url,encoding='latin1')\n",
        "  df.head()\n",
        "  df['OriginalTweet']=df.OriginalTweet.apply(text_clean)\n",
        "  df['normlize_tweet']=df.OriginalTweet.apply(toknize)\n",
        "  df['normlize_tweet']=df.normlize_tweet.apply(lambda x: remove_stop(x))\n",
        "  df['normlize_tweet']=df.normlize_tweet.apply(lambda x: lemmatize_text(x))\n",
        "  le=LabelEncoder()\n",
        "  df[\"nSentiment\"]=df[\"Sentiment\"]\n",
        "  df[\"nSentiment\"]=le.fit_transform(df[\"nSentiment\"])\n",
        "  nSentiment=df[\"nSentiment\"]\n",
        "  tweets=df.normlize_tweet.apply(listtostring)\n",
        "  tweets=tweets.apply(remove_fullhashtags)\n",
        "  reconstructed_model = keras.models.load_model(\"my_model\")\n",
        "  with open('tokenizer.pickle', 'rb') as handle:\n",
        "      tokenizer = pickle.load(handle)\n",
        "  X_test = tokenizer.texts_to_sequences(tweets.values)\n",
        "  Y_test = nSentiment.values\n",
        "  vocab_size = len(tokenizer.word_index) + 1\n",
        "  embedding_dim = 50\n",
        "  maxlen = 100\n",
        "  X_test = pad_sequences(X_test, padding='post', maxlen=maxlen)\n",
        "  loss,score = reconstructed_model.evaluate(X_test, Y_test, verbose=True)\n",
        "  print(\"score:{:.4f}\".format(score))"
      ],
      "execution_count": null,
      "outputs": []
    },
    {
      "cell_type": "markdown",
      "metadata": {
        "id": "ZfanIO6JZQpA"
      },
      "source": [
        "#test result function\n"
      ]
    },
    {
      "cell_type": "code",
      "metadata": {
        "colab": {
          "base_uri": "https://localhost:8080/"
        },
        "id": "6tNjSbo432YJ",
        "outputId": "c19ddd94-ff4d-4bb0-93d2-923fefd8ad8f"
      },
      "source": [
        "testing_result('https://raw.githubusercontent.com/ashraf97it/NLPHW2/main/Covid_19_tweets_train.csv')"
      ],
      "execution_count": null,
      "outputs": [
        {
          "output_type": "stream",
          "text": [
            "1287/1287 [==============================] - 16s 12ms/step - loss: 0.6587 - accuracy: 0.7889\n",
            "score:0.7889\n"
          ],
          "name": "stdout"
        }
      ]
    },
    {
      "cell_type": "markdown",
      "metadata": {
        "id": "7ZzqpidhZuap"
      },
      "source": [
        "![image.png](data:image/png;base64,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)"
      ]
    }
  ]
}